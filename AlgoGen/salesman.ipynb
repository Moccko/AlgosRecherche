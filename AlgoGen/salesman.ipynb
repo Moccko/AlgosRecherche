{
 "cells": [
  {
   "cell_type": "code",
   "execution_count": 1,
   "outputs": [
    {
     "name": "stderr",
     "text": [
      "/anaconda3/envs/ml/lib/python3.7/site-packages/ipykernel_launcher.py:4: TqdmExperimentalWarning: Using `tqdm.autonotebook.tqdm` in notebook mode. Use `tqdm.tqdm` instead to force console mode (e.g. in jupyter console)\n",
      "  after removing the cwd from sys.path.\n"
     ],
     "output_type": "stream"
    }
   ],
   "source": [
    "import numpy as np\n",
    "import random as rnd\n",
    "import pandas as pd\n",
    "from tqdm.autonotebook import tqdm"
   ],
   "metadata": {
    "collapsed": false,
    "pycharm": {
     "name": "#%%\n",
     "is_executing": false
    }
   }
  },
  {
   "cell_type": "code",
   "execution_count": 3,
   "outputs": [],
   "source": [
    "class Salesman:\n",
    "    def __init__(self, c: int, population: int, elite: float=.2, mutation: float=.2, generate: bool=True, start: int=0, path: str=\"cities_example.txt\", verbose: bool=False):\n",
    "        self.cities = c\n",
    "        self.start = start \n",
    "        self.pop = population\n",
    "        self.c = []\n",
    "        self.elite, self.mutrate = elite, mutation\n",
    "        self.verbose = verbose\n",
    "        \n",
    "        if generate:\n",
    "            self.d = self.init_cities(2 * 5)\n",
    "            np.savetxt(path, self.d, fmt=\"%i\")\n",
    "        else:\n",
    "            try:\n",
    "                self.d = np.loadtxt(path, dtype=int)\n",
    "            except OSError:\n",
    "                exit(\"Error: If you specify the path argument with generate=False, then you have to create a [path].txt file following cities_example.txt format. It should be a square matrix for distances between cities with zeroes on the diagonal.\")\n",
    "        \n",
    "        if self.verbose:\n",
    "            print(\"Initialized TSP with map:\")\n",
    "            print(self.d)\n",
    "            print(f\"Starting from town #{self.start}\")\n",
    "    \n",
    "    \n",
    "    def init_cities(self, maxd: int) -> np.ndarray:\n",
    "        d = np.random.randint(-maxd, maxd, (self.cities, self.cities))\n",
    "        d = np.abs((d + d.T) // 2) + 1\n",
    "        np.fill_diagonal(d, 0)\n",
    "        return d\n",
    "    \n",
    "    \n",
    "    def generate_chromosome(self) -> list:\n",
    "        to_visit = [v for v in range(self.d.shape[0]) if not v == self.start]\n",
    "        rnd.shuffle(to_visit)\n",
    "        return [v for v in to_visit]\n",
    "    \n",
    "    \n",
    "    def initialization(self) -> None:\n",
    "        self.c = [self.generate_chromosome() for _ in range(self.pop)]\n",
    "    \n",
    "    \n",
    "    def distance(self, c: list) -> int:\n",
    "        d = 0\n",
    "        for i in range(len(c) - 1):\n",
    "            d += self.d[c[i]][c[i + 1]]\n",
    "        return d\n",
    "    \n",
    "    \n",
    "    def selection(self, unique: bool=False) -> tuple:\n",
    "        df = pd.DataFrame([{\"Road\": c, \"Length\": self.distance(c)} for c in self.c])\n",
    "        # sort by road length to keep the best roads\n",
    "        df = df.sort_values(\"Length\")\n",
    "        self.c = df.Road.values[:int(len(self.c) * self.elite)].tolist()\n",
    "        if unique:\n",
    "            solution = df.values[0]\n",
    "            return tuple(solution)\n",
    "    \n",
    "    \n",
    "    def breed(self) -> None:\n",
    "        i, length = 0, len(self.c)\n",
    "        # duplicates chromosomes\n",
    "        while len(self.c) < self.pop:\n",
    "            self.c.append(self.c[i % length])\n",
    "            i += 1\n",
    "    \n",
    "    \n",
    "    def mutate(self, c: list) -> list:\n",
    "        if rnd.random() < self.mutrate:\n",
    "            a, b = rnd.randint(0, len(c) - 1), rnd.randint(0, len(c) - 1)\n",
    "            tmp = c[a]\n",
    "            c[a] = c[b]\n",
    "            c[b] = tmp\n",
    "        return c\n",
    "    \n",
    "    \n",
    "    def mutations(self) -> None:\n",
    "        self.c = [self.mutate(c) for c in self.c]\n",
    "    \n",
    "    \n",
    "    def run(self, generations: int) -> tuple:\n",
    "        self.initialization()\n",
    "        for i in range(generations):\n",
    "            self.selection()\n",
    "            self.breed()\n",
    "            if self.verbose:\n",
    "                print(i, *self.c, sep=\"\\n\")\n",
    "            self.mutations()\n",
    "        return self.selection(unique=True)"
   ],
   "metadata": {
    "collapsed": false,
    "pycharm": {
     "name": "#%%\n",
     "is_executing": false
    }
   }
  },
  {
   "cell_type": "code",
   "execution_count": null,
   "outputs": [],
   "source": [
    "benchmark = []\n",
    "for b in tqdm(range(50)):\n",
    "    sm = Salesman(12, 300, start=0, elite=.5, mutation=.3, generate=False)\n",
    "    benchmark.append(sm.run(1000))\n",
    "print(*benchmark, sep=\"\\n\")"
   ],
   "metadata": {
    "collapsed": false,
    "pycharm": {
     "name": "#%%\n",
     "is_executing": true
    }
   }
  },
  {
   "cell_type": "code",
   "execution_count": 4,
   "outputs": [
    {
     "name": "stdout",
     "text": [
      "33\n"
     ],
     "output_type": "stream"
    }
   ],
   "source": [
    "print(min([b[1] for b in benchmark]))\n"
   ],
   "metadata": {
    "collapsed": false,
    "pycharm": {
     "name": "#%%\n",
     "is_executing": false
    }
   }
  }
 ],
 "metadata": {
  "kernelspec": {
   "display_name": "Python 3",
   "language": "python",
   "name": "python3"
  },
  "language_info": {
   "codemirror_mode": {
    "name": "ipython",
    "version": 2
   },
   "file_extension": ".py",
   "mimetype": "text/x-python",
   "name": "python",
   "nbconvert_exporter": "python",
   "pygments_lexer": "ipython2",
   "version": "2.7.6"
  },
  "pycharm": {
   "stem_cell": {
    "cell_type": "raw",
    "source": [],
    "metadata": {
     "collapsed": false
    }
   }
  }
 },
 "nbformat": 4,
 "nbformat_minor": 0
}
