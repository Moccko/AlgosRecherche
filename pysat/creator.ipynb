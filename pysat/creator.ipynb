{
 "cells": [
  {
   "cell_type": "code",
   "execution_count": 1,
   "metadata": {},
   "outputs": [
    {
     "ename": "SyntaxError",
     "evalue": "unexpected EOF while parsing (<ipython-input-1-9c6b9c2be324>, line 14)",
     "output_type": "error",
     "traceback": [
      "\u001b[0;36m  File \u001b[0;32m\"<ipython-input-1-9c6b9c2be324>\"\u001b[0;36m, line \u001b[0;32m14\u001b[0m\n\u001b[0;31m    \u001b[0m\n\u001b[0m    ^\u001b[0m\n\u001b[0;31mSyntaxError\u001b[0m\u001b[0;31m:\u001b[0m unexpected EOF while parsing\n"
     ]
    }
   ],
   "source": [
    "def value(i,j,k):\n",
    "    return k + 10*j + 100*i\n",
    "\n",
    "def valijk(ijk):\n",
    "    i = ijk/100\n",
    "    j = (ijk/10)%10\n",
    "    k = ijk%10\n",
    "    return i, j, k\n",
    "\n",
    "clauses = []\n",
    "sz = 9\n",
    "small_sz = 3\n",
    "\n",
    "for i in range(9):\n",
    "    for j in range(9):\n",
    "        for k in range(9):\n",
    "            #No two number on one case\n",
    "            for x in range(k+1,9):\n",
    "                clauses += [(-value(i,j,k), -value(i,j,x))]\n",
    "            #Same line\n",
    "            for x in range(i+1,9):\n",
    "                clauses += [(-value(i,j,k), -value(x,j,k))]\n",
    "            #Same column\n",
    "            for x in range(k+1,9):\n",
    "                clauses += [(-value(i,j,k), -value(i,x,k))]\n",
    "            #Same square\n",
    "            for x in range(i-(i%3),i-(i%3)+3):\n",
    "                for y in range(j-(j%3),j-(j%3)+3):\n",
    "                    clauses += [(-value(i,j,k), -value(x,y,k))]"
   ]
  }
 ],
 "metadata": {
  "kernelspec": {
   "display_name": "Python 3",
   "language": "python",
   "name": "python3"
  },
  "language_info": {
   "codemirror_mode": {
    "name": "ipython",
    "version": 3
   },
   "file_extension": ".py",
   "mimetype": "text/x-python",
   "name": "python",
   "nbconvert_exporter": "python",
   "pygments_lexer": "ipython3",
   "version": "3.7.4"
  },
  "pycharm": {
   "stem_cell": {
    "cell_type": "raw",
    "source": [],
    "metadata": {
     "collapsed": false
    }
   }
  }
 },
 "nbformat": 4,
 "nbformat_minor": 2
}
