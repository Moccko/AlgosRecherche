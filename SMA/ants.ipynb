{
 "cells": [
  {
   "cell_type": "code",
   "execution_count": 209,
   "outputs": [],
   "source": [
    "from __future__ import print_function\n",
    "import numpy as np\n",
    "import random as rnd\n",
    "from sys import exit\n",
    "from ipywidgets import interact, interactive, fixed, interact_manual\n",
    "import ipywidgets as widgets"
   ],
   "metadata": {
    "collapsed": false,
    "pycharm": {
     "name": "#%%\n",
     "is_executing": false
    }
   }
  },
  {
   "cell_type": "code",
   "execution_count": 214,
   "outputs": [],
   "source": [
    "class Salesman:\n",
    "    def __init__(self, c: int, a: int, alpha:float=.1, beta:float=1.1, gamma:float=.1, generate:bool=True, path:str=\"cities_example.txt\"):\n",
    "        self.cities = c\n",
    "        self.start = rnd.randint(0, c - 1)\n",
    "        self.ants = a\n",
    "        self.k = 10 * c\n",
    "        \n",
    "        if generate:\n",
    "            self.d = self.init_cities(2 * 5)\n",
    "            np.savetxt(path, self.d, fmt=\"%i\")\n",
    "        else:\n",
    "            try:\n",
    "                self.d = np.loadtxt(path, dtype=int)\n",
    "            except OSError:\n",
    "                exit(\"Error: If you specify the path argument with generate=False, then you have to create a [path].txt file following cities_example.txt format. It should be a square matrix for distances between cities with zeroes on the diagonal.\")\n",
    "        self.p = np.zeros((c, c))\n",
    "        self.c = np.zeros((self.k, c))\n",
    "        # wtf\n",
    "        self.q = 1\n",
    "        self.gamma = gamma\n",
    "        \n",
    "        # wtf\n",
    "        self.curiosity = 0.1\n",
    "        self.alpha = alpha\n",
    "        self.beta = beta\n",
    "        \n",
    "        print(\"Initialized TSP with map:\")\n",
    "        print(self.d)\n",
    "        print(f\"Starting from town #{self.start}\")\n",
    "    \n",
    "    def init_cities(self, maxd:int) -> np.ndarray:\n",
    "        d = np.random.randint(-maxd, maxd, (self.cities, self.cities))\n",
    "        d = np.abs((d + d.T) // 2) + 1\n",
    "        np.fill_diagonal(d, 0)\n",
    "        return d\n",
    "        \n",
    "        \n",
    "    def run(self, it:int, verbose:bool=False) -> None:\n",
    "        minroad = ([], 1000000)\n",
    "        for i in range(it):\n",
    "            roads = [Ant(self.d, self.p, self.start, self.alpha, self.beta).walk() for _ in range(self.ants)]\n",
    "            self.update_pheromones(roads, verbose)\n",
    "            \n",
    "            roadslength = [sum([c[1] for c in r]) for r in roads]\n",
    "            roads = [[path[0] for path in r] for r in roads]\n",
    "            bestroad = (np.argmin(roadslength), min(roadslength))\n",
    "            \n",
    "            minroad = (roads[bestroad[0]], bestroad[1]) if bestroad[1] < minroad[1] else minroad\n",
    "            if verbose:\n",
    "                print(*roads[bestroad[0]], bestroad[1])\n",
    "        print(f\"Best road : {minroad}\")\n",
    "    \n",
    "    def update_pheromones(self, roads:list, verbose:bool=False) -> None:\n",
    "        # evaporation\n",
    "        self.p *= .9\n",
    "        for road in roads:\n",
    "            d = sum([c[1] for c in road])\n",
    "            s = self.start\n",
    "            \n",
    "            for c in road[1:]:\n",
    "                self.p[s][c[0]] += self.q / d\n",
    "                self.p[c[0]][s] += self.q / d\n",
    "                s = c[0]\n",
    "                \n",
    "            if verbose:\n",
    "                print(d, self.p)\n",
    "    \n",
    "class Ant:\n",
    "    def __init__(self, c: np.ndarray, p: np.ndarray, s:int, a:float, b:float):\n",
    "        self.cities = c\n",
    "        self.p_map = p\n",
    "        self.to_visit = [v for v in range(c.shape[0]) if not v == s]\n",
    "        self.alpha = a\n",
    "        self.beta = b\n",
    "        \n",
    "        self.road = [(s, 0)]\n",
    "    \n",
    "    def choose_road(self) -> int:\n",
    "        crt = self.road[-1][0]\n",
    "        ps = {}\n",
    "        for c, _ in enumerate(self.to_visit):\n",
    "            intensity = self.p_map[crt][c]\n",
    "            desirability = 1 / self.cities[crt][c]\n",
    "            ps[c] = intensity * self.alpha * desirability * self.beta\n",
    "        pt = sum(ps.values())\n",
    "        ps = {p: ps[p]/pt for p in ps}\n",
    "        try:\n",
    "            return np.random.choice(a=list(ps.keys()), p=list(ps.values()))\n",
    "        except ValueError:\n",
    "            return rnd.randint(0, len(self.to_visit) - 1)\n",
    "    \n",
    "    def walk(self) -> list:\n",
    "        while len(self.to_visit) > 0:\n",
    "            crt = self.road[-1][0]\n",
    "            i = self.choose_road()\n",
    "            c = self.to_visit.pop(i)\n",
    "            self.road.append((c, self.cities[crt][c]))\n",
    "        return self.road"
   ],
   "metadata": {
    "collapsed": false,
    "pycharm": {
     "name": "#%%\n",
     "is_executing": false
    }
   }
  },
  {
   "cell_type": "code",
   "execution_count": null,
   "outputs": [],
   "source": [],
   "metadata": {
    "collapsed": false,
    "pycharm": {
     "name": "#%%\n"
    }
   }
  },
  {
   "cell_type": "code",
   "execution_count": 229,
   "outputs": [
    {
     "data": {
      "text/plain": "interactive(children=(IntSlider(value=10, description='Ants count', max=30, min=2), Output()), _dom_classes=('…",
      "application/vnd.jupyter.widget-view+json": {
       "version_major": 2,
       "version_minor": 0,
       "model_id": "0c3c6e7e51494de2bfb014011ef4db46"
      }
     },
     "metadata": {},
     "output_type": "display_data"
    },
    {
     "data": {
      "text/plain": "interactive(children=(IntSlider(value=10, description='Cities count', max=30, min=1), Output()), _dom_classes=…",
      "application/vnd.jupyter.widget-view+json": {
       "version_major": 2,
       "version_minor": 0,
       "model_id": "992f071b062d463d8e97bfa87eb65400"
      }
     },
     "metadata": {},
     "output_type": "display_data"
    },
    {
     "data": {
      "text/plain": "interactive(children=(IntSlider(value=10, description='Start from', max=30), Output()), _dom_classes=('widget-…",
      "application/vnd.jupyter.widget-view+json": {
       "version_major": 2,
       "version_minor": 0,
       "model_id": "3e4416ae93574d90a3546b408533bca4"
      }
     },
     "metadata": {},
     "output_type": "display_data"
    },
    {
     "data": {
      "text/plain": "interactive(children=(FloatSlider(value=1.0, description='𝛼', max=1.0, step=0.01), Output()), _dom_classes=('w…",
      "application/vnd.jupyter.widget-view+json": {
       "version_major": 2,
       "version_minor": 0,
       "model_id": "e3f798860bac41ba855f51b9ff56e6ff"
      }
     },
     "metadata": {},
     "output_type": "display_data"
    },
    {
     "data": {
      "text/plain": "interactive(children=(FloatSlider(value=10.0, description='𝛽', max=10.0, min=1.0, step=0.01), Output()), _dom_…",
      "application/vnd.jupyter.widget-view+json": {
       "version_major": 2,
       "version_minor": 0,
       "model_id": "276ee691c5fc4d0f9752d59ba496f34d"
      }
     },
     "metadata": {},
     "output_type": "display_data"
    },
    {
     "data": {
      "text/plain": "interactive(children=(IntSlider(value=10, description='Iterations', max=1000, min=1), Output()), _dom_classes=…",
      "application/vnd.jupyter.widget-view+json": {
       "version_major": 2,
       "version_minor": 0,
       "model_id": "f40f534fa49c470abddd290a0249b1ba"
      }
     },
     "metadata": {},
     "output_type": "display_data"
    },
    {
     "data": {
      "text/plain": "interactive(children=(FloatSlider(value=10.0, description='𝛾', max=30.0, min=-10.0, step=1.0), Output()), _dom…",
      "application/vnd.jupyter.widget-view+json": {
       "version_major": 2,
       "version_minor": 0,
       "model_id": "a73cfa77129c459b9486fd3c6021aacf"
      }
     },
     "metadata": {},
     "output_type": "display_data"
    },
    {
     "data": {
      "text/plain": "interactive(children=(FloatSlider(value=10.0, description='Curiosity', max=30.0, min=-10.0, step=1.0), Output(…",
      "application/vnd.jupyter.widget-view+json": {
       "version_major": 2,
       "version_minor": 0,
       "model_id": "c5802830e8ea4f2f9ed58f16d85b1dc8"
      }
     },
     "metadata": {},
     "output_type": "display_data"
    },
    {
     "name": "stdout",
     "text": [
      "Initialized TSP with map:\n",
      "[[ 0  4  2  2 11]\n",
      " [ 4  0  2  1  3]\n",
      " [ 2  2  0  8  6]\n",
      " [ 2  1  8  0  3]\n",
      " [11  3  6  3  0]]\n",
      "Starting from town #2\n",
      "Best road : ([2, 0, 3, 1, 4], 8)\n"
     ],
     "output_type": "stream"
    },
    {
     "name": "stderr",
     "text": [
      "/anaconda3/envs/ml/lib/python3.7/site-packages/ipykernel_launcher.py:81: RuntimeWarning: divide by zero encountered in long_scalars\n",
      "/anaconda3/envs/ml/lib/python3.7/site-packages/ipykernel_launcher.py:82: RuntimeWarning: invalid value encountered in double_scalars\n",
      "/anaconda3/envs/ml/lib/python3.7/site-packages/ipykernel_launcher.py:84: RuntimeWarning: invalid value encountered in double_scalars\n"
     ],
     "output_type": "stream"
    }
   ],
   "source": [
    "# ants\n",
    "# nb cities\n",
    "# start (depending on nb cities)\n",
    "# alpha\n",
    "# beta\n",
    "# iterations\n",
    "# gamma\n",
    "# curiosity\n",
    "# ants = interact(lambda x: x, x=widgets.IntSlider(min=2, max=30, step=1, value=10, description=\"Ants count\"))\n",
    "# cities = interact(lambda x: x, x=widgets.IntSlider(min=1, max=30, step=1, value=10, description=\"Cities count\"))\n",
    "# start = interact(lambda x: x, x=widgets.IntSlider(min=0, max=30, step=1, value=10, description=\"Start from\"))\n",
    "# alpha = interact(lambda x: x, x=widgets.FloatSlider(min=0, max=1, step=.01, value=10, description=\"𝛼\"))\n",
    "# beta = interact(lambda x: x, x=widgets.FloatSlider(min=1, max=10, step=.01, value=10, description=\"𝛽\"))\n",
    "# iterations = interact(lambda x: x, x=widgets.IntSlider(min=1, max=1000, step=1, value=10, description=\"Iterations\"))\n",
    "# gamma = interact(lambda x: x, x=widgets.FloatSlider(min=-10, max=30, step=1, value=10, description=\"𝛾\"))\n",
    "# curiosity = interact(lambda x: x, x=widgets.FloatSlider(min=-10, max=30, step=1, value=10, description=\"Curiosity\"))\n",
    "\n",
    "salesman = Salesman(5, 20, generate=False)\n",
    "salesman.run(100, verbose=False)"
   ],
   "metadata": {
    "collapsed": false,
    "pycharm": {
     "name": "#%%\n",
     "is_executing": false
    }
   }
  },
  {
   "cell_type": "code",
   "execution_count": 187,
   "outputs": [],
   "source": [
    "\n"
   ],
   "metadata": {
    "collapsed": false,
    "pycharm": {
     "name": "#%%\n",
     "is_executing": false
    }
   }
  }
 ],
 "metadata": {
  "kernelspec": {
   "display_name": "Python 3",
   "language": "python",
   "name": "python3"
  },
  "language_info": {
   "codemirror_mode": {
    "name": "ipython",
    "version": 3
   },
   "file_extension": ".py",
   "mimetype": "text/x-python",
   "name": "python",
   "nbconvert_exporter": "python",
   "pygments_lexer": "ipython3",
   "version": "3.7.5"
  },
  "pycharm": {
   "stem_cell": {
    "cell_type": "raw",
    "source": [],
    "metadata": {
     "collapsed": false
    }
   }
  }
 },
 "nbformat": 4,
 "nbformat_minor": 1
}
