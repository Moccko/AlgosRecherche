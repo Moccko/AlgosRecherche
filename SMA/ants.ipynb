{
 "cells": [
  {
   "cell_type": "code",
   "execution_count": null,
   "outputs": [],
   "source": [
    "import numpy as np\n",
    "import random as rnd"
   ],
   "metadata": {
    "collapsed": false,
    "pycharm": {
     "name": "#%%\n"
    }
   }
  },
  {
   "cell_type": "code",
   "execution_count": 130,
   "outputs": [],
   "source": [
    "class SalesMan:\n",
    "    def __init__(self, c, a):\n",
    "        self.cities = c\n",
    "        self.start = rnd.randint(0, c - 1)\n",
    "        self.ants = a\n",
    "        self.k = 10 * c\n",
    "        self.d = self.init_cities(2 * 5)\n",
    "        self.p = np.zeros((c, c))\n",
    "        self.c = np.zeros((self.k, c))\n",
    "        self.q = 1\n",
    "        self.gamma = .1\n",
    "        \n",
    "        self.curiosity = 0.1\n",
    "        self.alpha = 0.1\n",
    "        self.beta = 0.1\n",
    "    \n",
    "    def init_cities(self, maxd):\n",
    "        d = np.random.randint(-maxd, maxd, (self.cities, self.cities))\n",
    "        d = np.abs((d + d.T) // 2) + 1\n",
    "        np.fill_diagonal(d, 0)\n",
    "        return d\n",
    "        \n",
    "        \n",
    "    def run(self, it):\n",
    "        for i in range(it):\n",
    "            roads = [Ant(self.d, self.p, self.start).walk() for a in range(self.ants)]\n",
    "            self.update_pheromones(roads)\n",
    "    \n",
    "    def update_pheromones(self, roads):\n",
    "        self.p *= .9\n",
    "        for road in roads:\n",
    "            d = sum([c[1] for c in road])\n",
    "            s = self.start\n",
    "            \n",
    "            for c in road[1:]:\n",
    "                self.p[s][c[0]] += self.q / d\n",
    "                self.p[c[0]][s] += self.q / d\n",
    "                s = c[0]\n",
    "            print(d, self.p)\n",
    "    \n",
    "class Ant:\n",
    "    def __init__(self, c, p, s):\n",
    "        self.cities = c\n",
    "        self.p_map = p\n",
    "        self.to_visit = [v for v in range(c.shape[0]) if not v == s]\n",
    "        \n",
    "        self.road = [(s, 0)]\n",
    "    \n",
    "    # def choice(self, ):\n",
    "    \n",
    "    def walk(self):\n",
    "        while len(self.to_visit) > 0:\n",
    "            crt = self.road[-1][0]\n",
    "            ds = [self.cities[crt][v] for v in self.to_visit]\n",
    "            \n",
    "            i = rnd.randint(0, len(self.to_visit) - 1)\n",
    "            c = self.to_visit.pop(i)\n",
    "            self.road.append((c, self.cities[crt][c]))\n",
    "        # print(*self.road)\n",
    "        return self.road"
   ],
   "metadata": {
    "collapsed": false,
    "pycharm": {
     "name": "#%%\n",
     "is_executing": false
    }
   }
  },
  {
   "cell_type": "code",
   "execution_count": 131,
   "outputs": [
    {
     "name": "stdout",
     "text": [
      "14 [[0.         0.         0.07142857 0.         0.        ]\n",
      " [0.         0.         0.         0.07142857 0.07142857]\n",
      " [0.07142857 0.         0.         0.         0.07142857]\n",
      " [0.         0.07142857 0.         0.         0.        ]\n",
      " [0.         0.07142857 0.07142857 0.         0.        ]]\n",
      "17 [[0.         0.05882353 0.07142857 0.         0.05882353]\n",
      " [0.05882353 0.         0.05882353 0.07142857 0.07142857]\n",
      " [0.07142857 0.05882353 0.         0.         0.07142857]\n",
      " [0.         0.07142857 0.         0.         0.05882353]\n",
      " [0.05882353 0.07142857 0.07142857 0.05882353 0.        ]]\n",
      "17 [[0.         0.11176471 0.06428571 0.05882353 0.05294118]\n",
      " [0.11176471 0.         0.05294118 0.06428571 0.12310924]\n",
      " [0.06428571 0.05294118 0.         0.         0.12310924]\n",
      " [0.05882353 0.06428571 0.         0.         0.05294118]\n",
      " [0.05294118 0.12310924 0.12310924 0.05294118 0.        ]]\n",
      "12 [[0.         0.19509804 0.14761905 0.05882353 0.05294118]\n",
      " [0.19509804 0.         0.05294118 0.06428571 0.20644258]\n",
      " [0.14761905 0.05294118 0.         0.         0.12310924]\n",
      " [0.05882353 0.06428571 0.         0.         0.13627451]\n",
      " [0.05294118 0.20644258 0.12310924 0.13627451 0.        ]]\n"
     ],
     "output_type": "stream"
    }
   ],
   "source": [
    "salesman = SalesMan(5, 2)\n",
    "salesman.run(2)"
   ],
   "metadata": {
    "collapsed": false,
    "pycharm": {
     "name": "#%%\n",
     "is_executing": false
    }
   }
  },
  {
   "cell_type": "code",
   "execution_count": null,
   "outputs": [],
   "source": [
    "\n"
   ],
   "metadata": {
    "collapsed": false,
    "pycharm": {
     "name": "#%%\n"
    }
   }
  }
 ],
 "metadata": {
  "kernelspec": {
   "display_name": "Python 3",
   "language": "python",
   "name": "python3"
  },
  "language_info": {
   "codemirror_mode": {
    "name": "ipython",
    "version": 3
   },
   "file_extension": ".py",
   "mimetype": "text/x-python",
   "name": "python",
   "nbconvert_exporter": "python",
   "pygments_lexer": "ipython3",
   "version": "3.7.5"
  },
  "pycharm": {
   "stem_cell": {
    "cell_type": "raw",
    "source": [],
    "metadata": {
     "collapsed": false
    }
   }
  }
 },
 "nbformat": 4,
 "nbformat_minor": 1
}
