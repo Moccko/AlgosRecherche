{
 "cells": [
  {
   "cell_type": "code",
   "execution_count": 1,
   "outputs": [
    {
     "name": "stderr",
     "text": [
      "/anaconda3/envs/ml/lib/python3.7/site-packages/ipykernel_launcher.py:5: TqdmExperimentalWarning: Using `tqdm.autonotebook.tqdm` in notebook mode. Use `tqdm.tqdm` instead to force console mode (e.g. in jupyter console)\n",
      "  \"\"\"\n"
     ],
     "output_type": "stream"
    }
   ],
   "source": [
    "from __future__ import print_function\n",
    "import numpy as np\n",
    "import random as rnd\n",
    "from sys import exit\n",
    "from tqdm.autonotebook import tqdm\n",
    "from ipywidgets import interact, interactive, fixed, interact_manual\n",
    "import ipywidgets as widgets"
   ],
   "metadata": {
    "collapsed": false,
    "pycharm": {
     "name": "#%%\n",
     "is_executing": false
    }
   }
  },
  {
   "cell_type": "code",
   "execution_count": 5,
   "outputs": [],
   "source": [
    "class Salesman:\n",
    "    def __init__(self, c: int, a: int, start: int=0, alpha:float=.1, beta:float=1.1, gamma:float=.1, generate:bool=True, path:str=\"cities_example.txt\", verbose:bool=False):\n",
    "        self.cities = c\n",
    "        self.start = start\n",
    "        self.ants = a\n",
    "        self.k = 10 * c\n",
    "        \n",
    "        self.verbose = verbose\n",
    "        \n",
    "        if generate:\n",
    "            self.d = self.init_cities(2 * 5)\n",
    "            np.savetxt(path, self.d, fmt=\"%i\")\n",
    "        else:\n",
    "            try:\n",
    "                self.d = np.loadtxt(path, dtype=int)\n",
    "            except OSError:\n",
    "                exit(\"Error: If you specify the path argument with generate=False, then you have to create a [path].txt file following cities_example.txt format. It should be a square matrix for distances between cities with zeroes on the diagonal.\")\n",
    "        self.p = np.zeros((c, c))\n",
    "        self.c = np.zeros((self.k, c))\n",
    "        # wtf\n",
    "        self.q = 1\n",
    "        self.gamma = gamma\n",
    "        \n",
    "        # wtf\n",
    "        self.curiosity = 0.1\n",
    "        self.alpha = alpha\n",
    "        self.beta = beta\n",
    "        \n",
    "        if self.verbose:\n",
    "            print(\"Initialized TSP with map:\")\n",
    "            print(self.d)\n",
    "            print(f\"Starting from town #{self.start}\")\n",
    "    \n",
    "    \n",
    "    def init_cities(self, maxd:int) -> np.ndarray:\n",
    "        d = np.random.randint(-maxd, maxd, (self.cities, self.cities))\n",
    "        d = np.abs((d + d.T) // 2) + 1\n",
    "        np.fill_diagonal(d, 0)\n",
    "        return d\n",
    "    \n",
    "    \n",
    "    def update_pheromones(self, roads:list) -> None:\n",
    "        # evaporation\n",
    "        self.p *= .9\n",
    "        for road in roads:\n",
    "            d = sum([c[1] for c in road])\n",
    "            s = self.start\n",
    "            \n",
    "            for c in road[1:]:\n",
    "                self.p[s][c[0]] += self.q / d\n",
    "                self.p[c[0]][s] += self.q / d\n",
    "                s = c[0]\n",
    "                \n",
    "            if self.verbose:\n",
    "                print(d, self.p)\n",
    "        \n",
    "        \n",
    "    def run(self, it:int) -> tuple:\n",
    "        minroad = ([], 1000000)\n",
    "        for i in range(it):\n",
    "            roads = [Ant(self.d, self.p, self.start, self.alpha, self.beta).walk() for _ in range(self.ants)]\n",
    "            self.update_pheromones(roads)\n",
    "            \n",
    "            roadslength = [sum([c[1] for c in r]) for r in roads]\n",
    "            roads = [[path[0] for path in r] for r in roads]\n",
    "            bestroad = (np.argmin(roadslength), min(roadslength))\n",
    "            \n",
    "            minroad = (roads[bestroad[0]], bestroad[1]) if bestroad[1] < minroad[1] else minroad\n",
    "            if self.verbose:\n",
    "                print(*roads[bestroad[0]], bestroad[1])\n",
    "        return minroad\n",
    "    \n",
    "    \n",
    "class Ant:\n",
    "    def __init__(self, c: np.ndarray, p: np.ndarray, s:int, a:float, b:float):\n",
    "        self.cities = c\n",
    "        self.p_map = p\n",
    "        self.to_visit = [v for v in range(c.shape[0]) if not v == s]\n",
    "        self.alpha = a\n",
    "        self.beta = b\n",
    "        \n",
    "        self.road = [(s, 0)]\n",
    "    \n",
    "    def choose_road(self) -> int:\n",
    "        crt = self.road[-1][0]\n",
    "        ps = {}\n",
    "        for c, _ in enumerate(self.to_visit):\n",
    "            intensity = self.p_map[crt][c]\n",
    "            desirability = 1 / self.cities[crt][c]\n",
    "            ps[c] = intensity * self.alpha * desirability * self.beta\n",
    "        pt = sum(ps.values())\n",
    "        ps = {p: ps[p]/pt for p in ps}\n",
    "        try:\n",
    "            return np.random.choice(a=list(ps.keys()), p=list(ps.values()))\n",
    "        except ValueError:\n",
    "            return rnd.randint(0, len(self.to_visit) - 1)\n",
    "    \n",
    "    def walk(self) -> list:\n",
    "        while len(self.to_visit) > 0:\n",
    "            crt = self.road[-1][0]\n",
    "            i = self.choose_road()\n",
    "            c = self.to_visit.pop(i)\n",
    "            self.road.append((c, self.cities[crt][c]))\n",
    "        return self.road"
   ],
   "metadata": {
    "collapsed": false,
    "pycharm": {
     "name": "#%%\n",
     "is_executing": false
    }
   }
  },
  {
   "cell_type": "code",
   "execution_count": 6,
   "outputs": [
    {
     "data": {
      "text/plain": "HBox(children=(FloatProgress(value=0.0, max=50.0), HTML(value='')))",
      "application/vnd.jupyter.widget-view+json": {
       "version_major": 2,
       "version_minor": 0,
       "model_id": "ab1e3192a73c4a8888e6f95a2766e021"
      }
     },
     "metadata": {},
     "output_type": "display_data"
    },
    {
     "name": "stderr",
     "text": [
      "/anaconda3/envs/ml/lib/python3.7/site-packages/ipykernel_launcher.py:89: RuntimeWarning: divide by zero encountered in long_scalars\n",
      "/anaconda3/envs/ml/lib/python3.7/site-packages/ipykernel_launcher.py:90: RuntimeWarning: invalid value encountered in double_scalars\n",
      "/anaconda3/envs/ml/lib/python3.7/site-packages/ipykernel_launcher.py:92: RuntimeWarning: invalid value encountered in double_scalars\n"
     ],
     "output_type": "stream"
    },
    {
     "name": "stdout",
     "text": [
      "\n",
      "([0, 2, 11, 4, 9, 6, 8, 7, 10, 5, 3, 1], 28)\n",
      "([0, 2, 9, 8, 11, 4, 6, 5, 10, 7, 3, 1], 23)\n",
      "([0, 6, 5, 2, 11, 8, 10, 7, 9, 4, 3, 1], 27)\n",
      "([0, 2, 4, 9, 7, 10, 11, 8, 6, 5, 3, 1], 28)\n",
      "([0, 2, 9, 5, 3, 1, 8, 10, 7, 6, 4, 11], 30)\n",
      "([0, 2, 11, 10, 5, 6, 4, 3, 7, 9, 1, 8], 28)\n",
      "([0, 1, 10, 7, 3, 5, 2, 11, 8, 6, 4, 9], 26)\n",
      "([0, 2, 1, 3, 7, 9, 4, 11, 8, 6, 10, 5], 29)\n",
      "([0, 2, 5, 6, 3, 7, 10, 9, 4, 11, 1, 8], 31)\n",
      "([0, 2, 5, 6, 8, 11, 4, 3, 1, 9, 10, 7], 25)\n",
      "([0, 1, 8, 11, 4, 7, 3, 5, 10, 6, 2, 9], 29)\n",
      "([0, 1, 3, 7, 10, 8, 6, 4, 11, 2, 5, 9], 28)\n",
      "([0, 1, 9, 7, 3, 5, 2, 6, 4, 11, 10, 8], 29)\n",
      "([0, 2, 6, 3, 7, 10, 5, 8, 11, 4, 9, 1], 26)\n",
      "([0, 2, 11, 8, 6, 4, 3, 5, 10, 1, 9, 7], 27)\n",
      "([0, 2, 11, 6, 4, 9, 3, 7, 10, 5, 8, 1], 28)\n",
      "([0, 2, 5, 10, 9, 7, 6, 4, 11, 8, 3, 1], 31)\n",
      "([0, 6, 8, 1, 11, 2, 5, 10, 7, 9, 4, 3], 30)\n",
      "([0, 2, 6, 8, 11, 4, 9, 5, 10, 1, 3, 7], 28)\n",
      "([0, 2, 6, 5, 10, 7, 8, 11, 4, 9, 3, 1], 25)\n",
      "([0, 1, 3, 9, 4, 11, 8, 7, 10, 5, 2, 6], 27)\n",
      "([0, 2, 11, 4, 6, 5, 8, 10, 9, 7, 3, 1], 29)\n",
      "([0, 2, 4, 11, 8, 1, 3, 9, 6, 5, 10, 7], 29)\n",
      "([0, 6, 2, 11, 4, 9, 3, 5, 10, 7, 1, 8], 28)\n",
      "([0, 2, 11, 4, 7, 10, 5, 6, 8, 9, 3, 1], 27)\n",
      "([0, 2, 5, 10, 11, 4, 6, 8, 9, 1, 3, 7], 27)\n",
      "([0, 5, 6, 2, 11, 4, 3, 7, 10, 8, 9, 1], 29)\n",
      "([0, 6, 4, 9, 8, 11, 2, 5, 10, 1, 3, 7], 28)\n",
      "([0, 2, 9, 7, 10, 5, 8, 6, 4, 11, 1, 3], 28)\n",
      "([0, 5, 10, 9, 8, 11, 2, 6, 4, 7, 3, 1], 30)\n",
      "([0, 6, 2, 9, 7, 3, 5, 10, 4, 11, 8, 1], 29)\n",
      "([0, 6, 2, 9, 7, 5, 10, 8, 11, 4, 3, 1], 30)\n",
      "([0, 6, 5, 2, 9, 4, 11, 8, 3, 7, 10, 1], 30)\n",
      "([0, 5, 2, 6, 4, 9, 8, 11, 10, 7, 3, 1], 28)\n",
      "([0, 2, 6, 5, 4, 11, 8, 1, 3, 9, 10, 7], 27)\n",
      "([0, 1, 9, 10, 7, 5, 3, 4, 11, 8, 6, 2], 29)\n",
      "([0, 5, 10, 7, 3, 1, 9, 8, 11, 4, 6, 2], 25)\n",
      "([0, 6, 10, 7, 3, 5, 2, 11, 8, 1, 9, 4], 27)\n",
      "([0, 1, 3, 7, 10, 5, 9, 4, 11, 8, 6, 2], 26)\n",
      "([0, 6, 4, 9, 3, 7, 10, 5, 2, 1, 11, 8], 29)\n",
      "([0, 2, 6, 7, 10, 9, 3, 5, 4, 11, 8, 1], 29)\n",
      "([0, 2, 9, 6, 8, 11, 4, 5, 10, 7, 3, 1], 27)\n",
      "([0, 2, 11, 4, 3, 7, 10, 1, 9, 8, 6, 5], 28)\n",
      "([0, 5, 3, 7, 10, 8, 11, 4, 6, 2, 1, 9], 28)\n",
      "([0, 2, 9, 6, 4, 11, 8, 1, 10, 5, 3, 7], 29)\n",
      "([0, 1, 8, 11, 4, 9, 7, 10, 5, 3, 6, 2], 28)\n",
      "([0, 1, 3, 5, 10, 9, 7, 8, 6, 4, 11, 2], 30)\n",
      "([0, 5, 10, 7, 3, 1, 8, 6, 2, 11, 4, 9], 25)\n",
      "([0, 6, 7, 10, 8, 5, 3, 1, 9, 4, 11, 2], 29)\n",
      "([0, 1, 9, 6, 4, 11, 8, 10, 7, 3, 5, 2], 28)\n"
     ],
     "output_type": "stream"
    }
   ],
   "source": [
    "# ants\n",
    "# nb cities\n",
    "# start (depending on nb cities)\n",
    "# alpha\n",
    "# beta\n",
    "# iterations\n",
    "# gamma\n",
    "# curiosity\n",
    "# ants = interact(lambda x: x, x=widgets.IntSlider(min=2, max=30, step=1, value=10, description=\"Ants count\"))\n",
    "# cities = interact(lambda x: x, x=widgets.IntSlider(min=1, max=30, step=1, value=10, description=\"Cities count\"))\n",
    "# start = interact(lambda x: x, x=widgets.IntSlider(min=0, max=30, step=1, value=10, description=\"Start from\"))\n",
    "# alpha = interact(lambda x: x, x=widgets.FloatSlider(min=0, max=1, step=.01, value=10, description=\"𝛼\"))\n",
    "# beta = interact(lambda x: x, x=widgets.FloatSlider(min=1, max=10, step=.01, value=10, description=\"𝛽\"))\n",
    "# iterations = interact(lambda x: x, x=widgets.IntSlider(min=1, max=1000, step=1, value=10, description=\"Iterations\"))\n",
    "# gamma = interact(lambda x: x, x=widgets.FloatSlider(min=-10, max=30, step=1, value=10, description=\"𝛾\"))\n",
    "# curiosity = interact(lambda x: x, x=widgets.FloatSlider(min=-10, max=30, step=1, value=10, description=\"Curiosity\"))\n",
    "\n",
    "benchmark = []\n",
    "for i in tqdm(range(50)):\n",
    "    salesman = Salesman(12, 50, start=0, generate=False, verbose=False)\n",
    "    benchmark.append(salesman.run(100))\n",
    "print(*benchmark, sep=\"\\n\")"
   ],
   "metadata": {
    "collapsed": false,
    "pycharm": {
     "name": "#%%\n",
     "is_executing": false
    }
   }
  },
  {
   "cell_type": "code",
   "execution_count": 7,
   "outputs": [
    {
     "name": "stdout",
     "text": [
      "23\n"
     ],
     "output_type": "stream"
    }
   ],
   "source": [
    "print(min([b[1] for b in benchmark]))\n"
   ],
   "metadata": {
    "collapsed": false,
    "pycharm": {
     "name": "#%%\n",
     "is_executing": false
    }
   }
  }
 ],
 "metadata": {
  "kernelspec": {
   "display_name": "Python 3",
   "language": "python",
   "name": "python3"
  },
  "language_info": {
   "codemirror_mode": {
    "name": "ipython",
    "version": 3
   },
   "file_extension": ".py",
   "mimetype": "text/x-python",
   "name": "python",
   "nbconvert_exporter": "python",
   "pygments_lexer": "ipython3",
   "version": "3.7.5"
  },
  "pycharm": {
   "stem_cell": {
    "cell_type": "raw",
    "source": [],
    "metadata": {
     "collapsed": false
    }
   }
  }
 },
 "nbformat": 4,
 "nbformat_minor": 1
}
